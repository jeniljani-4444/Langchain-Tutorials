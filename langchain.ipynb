{
 "cells": [
  {
   "cell_type": "code",
   "execution_count": 1,
   "metadata": {},
   "outputs": [],
   "source": [
    "from dotenv import load_dotenv\n",
    "import os\n",
    "from langchain.llms import OpenAI\n",
    "load_dotenv()\n",
    "import warnings\n",
    "warnings.filterwarnings(\"ignore\")"
   ]
  },
  {
   "cell_type": "code",
   "execution_count": 2,
   "metadata": {},
   "outputs": [],
   "source": [
    "## temperature value --> how creative we want our model to be\n",
    "## 0 --> temperature it means model is very safe it is not taking any bets.\n",
    "## 1 --> temperature  it will take risk it might generate wrong output but it is very creative."
   ]
  },
  {
   "cell_type": "code",
   "execution_count": 3,
   "metadata": {},
   "outputs": [],
   "source": [
    "llm = OpenAI(openai_api_key=os.getenv(\"openai_key\"),temperature=0.7)"
   ]
  },
  {
   "cell_type": "code",
   "execution_count": 4,
   "metadata": {},
   "outputs": [
    {
     "name": "stdout",
     "output_type": "stream",
     "text": [
      "\n",
      "\n",
      "\n",
      "1. Taj Mahal, Agra\n",
      "2. Golden Temple, Amritsar\n",
      "3. Jaipur, Rajasthan\n",
      "4. Goa\n",
      "5. Kerala Backwaters\n"
     ]
    }
   ],
   "source": [
    "text = '''Which are the five best places in India and i want point wise answer i do not want\n",
    "detail description i just want names'''\n",
    "print(llm.predict(text))"
   ]
  },
  {
   "cell_type": "markdown",
   "metadata": {},
   "source": [
    "## Prompt Templates and LLMChain"
   ]
  },
  {
   "cell_type": "code",
   "execution_count": 5,
   "metadata": {},
   "outputs": [
    {
     "name": "stdout",
     "output_type": "stream",
     "text": [
      "Give me the names of 5 best movies of India with highest box office collection \n",
      "    and also give the total worldwide collection in INR\n"
     ]
    }
   ],
   "source": [
    "from langchain.prompts import PromptTemplate\n",
    "\n",
    "input_prompt = PromptTemplate(\n",
    "    input_variables=['country'],\n",
    "    template = '''Give me the names of 5 best movies of {country} with highest box office collection \n",
    "    and also give the total worldwide collection in INR'''\n",
    ")\n",
    "\n",
    "print(input_prompt.format(country='India'))"
   ]
  },
  {
   "cell_type": "code",
   "execution_count": 6,
   "metadata": {},
   "outputs": [
    {
     "name": "stdout",
     "output_type": "stream",
     "text": [
      "\n",
      "\n",
      "1. \"Parasite\" - Worldwide collection: INR 441 crore\n",
      "2. \"Train to Busan\" - Worldwide collection: INR 312 crore\n",
      "3. \"Along with the Gods: The Two Worlds\" - Worldwide collection: INR 271 crore\n",
      "4. \"The Admiral: Roaring Currents\" - Worldwide collection: INR 251 crore\n",
      "5. \"Veteran\" - Worldwide collection: INR 224 crore\n"
     ]
    }
   ],
   "source": [
    "# In order to execute a prompt template you need to use LLMChain\n",
    "from langchain.chains import LLMChain\n",
    "chain = LLMChain(llm=llm,prompt=input_prompt)\n",
    "print(chain.run(\"Korea\"))"
   ]
  },
  {
   "cell_type": "markdown",
   "metadata": {},
   "source": [
    "## Combining Multiple Chains using Sequential Chain"
   ]
  },
  {
   "cell_type": "code",
   "execution_count": 7,
   "metadata": {},
   "outputs": [],
   "source": [
    "# Simple Sequential Chain\n",
    "# from langchain.chains import SimpleSequentialChain\n",
    "\n",
    "# country_prompt = PromptTemplate(input_variables=['country'],\n",
    "#                                 template='''Give me the name of richest man of {country} ''')\n",
    "# country_chain = LLMChain(llm=llm,prompt=country_prompt,output_key='Person_Name')\n",
    "\n",
    "# networth_prompt = PromptTemplate(input_variables=['networth'],\n",
    "#                                  template='''And also tell me the networth of that person is {networth} ''')\n",
    "# networth_chain = LLMChain(llm=llm,prompt=networth_prompt,output_key='Net_Worth')"
   ]
  },
  {
   "cell_type": "code",
   "execution_count": 8,
   "metadata": {},
   "outputs": [],
   "source": [
    "# main_chain = SimpleSequentialChain(chains=[country_chain,networth_chain])\n",
    "# main_chain.run(\"US\")"
   ]
  },
  {
   "cell_type": "code",
   "execution_count": 9,
   "metadata": {},
   "outputs": [],
   "source": [
    "# Sequential Chain\n",
    "from langchain.chains import SequentialChain\n",
    "country_prompt = PromptTemplate(input_variables=['country'],\n",
    "                                template='''Tell me the richest man of {country} and i just want one name only ''')\n",
    "country_chain = LLMChain(llm=llm,prompt=country_prompt,output_key='name')\n",
    "\n",
    "networth_prompt = PromptTemplate(input_variables=['name'],\n",
    "                                 template='''net worth of the {name}''')\n",
    "networth_chain = LLMChain(llm=llm,prompt=networth_prompt,output_key='Net_Worth')\n",
    "\n",
    "\n",
    "my_chain = SequentialChain(chains=[country_chain,networth_chain],\n",
    "                        input_variables=['country'],\n",
    "                        output_variables=['name','Net_Worth'])\n"
   ]
  },
  {
   "cell_type": "code",
   "execution_count": 10,
   "metadata": {},
   "outputs": [
    {
     "data": {
      "text/plain": [
       "{'country': 'USA',\n",
       " 'name': '\\n\\nAs of 2021, the richest man in the USA is Elon Musk, with a net worth of approximately $177 billion. ',\n",
       " 'Net_Worth': ''}"
      ]
     },
     "execution_count": 10,
     "metadata": {},
     "output_type": "execute_result"
    }
   ],
   "source": [
    "my_chain({'country':'USA'})"
   ]
  },
  {
   "cell_type": "markdown",
   "metadata": {},
   "source": [
    "## Chatmodels with ChatOpenAI"
   ]
  },
  {
   "cell_type": "code",
   "execution_count": 11,
   "metadata": {},
   "outputs": [],
   "source": [
    "from langchain.chat_models import ChatOpenAI\n",
    "from langchain.schema import HumanMessage,SystemMessage,AIMessage"
   ]
  },
  {
   "cell_type": "code",
   "execution_count": 12,
   "metadata": {},
   "outputs": [],
   "source": [
    "chat_llm = ChatOpenAI(openai_api_key=os.getenv(\"openai_key\"),temperature=0.7,model='gpt-3.5-turbo')"
   ]
  },
  {
   "cell_type": "code",
   "execution_count": 13,
   "metadata": {},
   "outputs": [
    {
     "data": {
      "text/plain": [
       "AIMessage(content='(Verse 1)\\nIn the realms of ancient lore, a tale unfolds\\nOf a deity with strength untold\\nLord Hanuman, mighty and wise\\nWith devotion that reaches the skies\\n\\n(Chorus)\\nOh Hanuman, the son of the wind\\nProtector of the weak, a true friend\\nWith your courage and love so grand\\nYou hold the power to save our land\\n\\n(Verse 2)\\nBorn to Anjana, a celestial being\\nBlessed by Vayu, the wind king\\nYou possess the speed of the breeze\\nAnd the strength to bring enemies to their knees\\n\\n(Chorus)\\nOh Hanuman, the son of the wind\\nProtector of the weak, a true friend\\nWith your courage and love so grand\\nYou hold the power to save our land\\n\\n(Bridge)\\nIn the search for Sita, you flew across the sea\\nTo Lanka, where Ravana held her captive, you see\\nYou leapt across the abyss, fearless and strong\\nWith devotion, you righted every wrong\\n\\n(Verse 3)\\nWith a heart full of devotion, you bring solace\\nTo those who seek your divine grace\\nYour loyalty to Lord Rama, unwavering and true\\nA symbol of faith and love for me and you\\n\\n(Chorus)\\nOh Hanuman, the son of the wind\\nProtector of the weak, a true friend\\nWith your courage and love so grand\\nYou hold the power to save our land\\n\\n(Outro)\\nOh Hanuman, your legend will forever remain\\nA beacon of hope, in times of joy or pain\\nWe bow to you, oh mighty deity\\nGuide us on our path, eternally')"
      ]
     },
     "execution_count": 13,
     "metadata": {},
     "output_type": "execute_result"
    }
   ],
   "source": [
    "chat_llm([\n",
    "    SystemMessage(content=\"You are a professional singer AI assistant\"),\n",
    "    HumanMessage(content=\"Please write a song on Lord Hanuman\")\n",
    "])"
   ]
  },
  {
   "cell_type": "markdown",
   "metadata": {},
   "source": [
    "## Prompt Template + LLM + Output Parsers"
   ]
  },
  {
   "cell_type": "code",
   "execution_count": 14,
   "metadata": {},
   "outputs": [],
   "source": [
    "from langchain.chat_models import ChatOpenAI\n",
    "from langchain.prompts.chat import ChatPromptTemplate\n",
    "from langchain.schema import BaseOutputParser"
   ]
  },
  {
   "cell_type": "code",
   "execution_count": 15,
   "metadata": {},
   "outputs": [],
   "source": [
    "class Commaseparatedoutput(BaseOutputParser):\n",
    "    def parse(self,text:str):\n",
    "        return text.strip().split('\\n')"
   ]
  },
  {
   "cell_type": "code",
   "execution_count": 16,
   "metadata": {},
   "outputs": [],
   "source": [
    "template = '''\n",
    "You are a Data Science helpful assistant. So when the user asks you something about data science,machine learning,\n",
    "deep learning, NLP and generative AI so on this topics you have to guide them properly   \n",
    "'''\n",
    "\n",
    "human_template = '{text}'\n",
    "\n",
    "chat_prompt = ChatPromptTemplate.from_messages([\n",
    "    ('system',template),\n",
    "    ('human',human_template)\n",
    "])"
   ]
  },
  {
   "cell_type": "code",
   "execution_count": 17,
   "metadata": {},
   "outputs": [],
   "source": [
    "final_chain = chat_prompt|chat_llm|Commaseparatedoutput()"
   ]
  },
  {
   "cell_type": "code",
   "execution_count": 18,
   "metadata": {},
   "outputs": [
    {
     "data": {
      "text/plain": [
       "['Sure! Here is a general roadmap for getting started with machine learning:',\n",
       " '',\n",
       " '1. Learn Python: Python is the most widely used programming language for machine learning. Start by learning the basics of Python and familiarize yourself with libraries like NumPy and Pandas, which are commonly used for data manipulation and analysis.',\n",
       " '',\n",
       " '2. Understand the Fundamentals of Machine Learning: Start by understanding the basic concepts of machine learning, such as supervised learning, unsupervised learning, and reinforcement learning. Familiarize yourself with common terms like training data, testing data, features, labels, and models.',\n",
       " '',\n",
       " '3. Learn Data Preprocessing: Data preprocessing is an important step in machine learning. Learn about techniques like data cleaning, feature scaling, handling missing values, and encoding categorical variables.',\n",
       " '',\n",
       " '4. Explore Machine Learning Algorithms: There are various types of machine learning algorithms, including linear regression, logistic regression, decision trees, random forests, support vector machines, and neural networks. Learn about the principles behind these algorithms and when to use each one.',\n",
       " '',\n",
       " '5. Practice with Datasets: Start working on small machine learning projects using publicly available datasets. Kaggle is a great platform to find datasets and participate in machine learning competitions.',\n",
       " '',\n",
       " '6. Evaluate Model Performance: Learn about different evaluation metrics for machine learning models, such as accuracy, precision, recall, F1 score, and ROC curves. Understand the concepts of overfitting and underfitting and how to avoid them.',\n",
       " '',\n",
       " '7. Feature Selection and Dimensionality Reduction: Explore techniques for selecting the most relevant features and reducing the dimensionality of the dataset, such as principal component analysis (PCA) and feature importance.',\n",
       " '',\n",
       " '8. Hyperparameter Tuning: Learn about hyperparameter tuning techniques to optimize the performance of your models, such as grid search and randomized search.',\n",
       " '',\n",
       " '9. Deep Learning: Explore the field of deep learning, which involves training neural networks with multiple layers. Learn about popular deep learning frameworks like TensorFlow and PyTorch.',\n",
       " '',\n",
       " '10. Deploying Machine Learning Models: Learn how to deploy your trained models into production environments, using frameworks like Flask or Django.',\n",
       " '',\n",
       " 'Remember that machine learning is a vast field, and continuous learning and practice are key to becoming proficient. Stay updated with the latest research papers and attend workshops or online courses to enhance your skills.']"
      ]
     },
     "execution_count": 18,
     "metadata": {},
     "output_type": "execute_result"
    }
   ],
   "source": [
    "final_chain.invoke({'text':'Roadmap for machine learning'})"
   ]
  },
  {
   "cell_type": "code",
   "execution_count": null,
   "metadata": {},
   "outputs": [],
   "source": []
  }
 ],
 "metadata": {
  "kernelspec": {
   "display_name": "Python 3",
   "language": "python",
   "name": "python3"
  },
  "language_info": {
   "codemirror_mode": {
    "name": "ipython",
    "version": 3
   },
   "file_extension": ".py",
   "mimetype": "text/x-python",
   "name": "python",
   "nbconvert_exporter": "python",
   "pygments_lexer": "ipython3",
   "version": "3.10.3"
  }
 },
 "nbformat": 4,
 "nbformat_minor": 2
}
