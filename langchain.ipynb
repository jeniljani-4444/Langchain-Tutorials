{
 "cells": [
  {
   "cell_type": "code",
   "execution_count": 1,
   "metadata": {},
   "outputs": [],
   "source": [
    "from dotenv import load_dotenv\n",
    "import os\n",
    "from langchain.llms import OpenAI\n",
    "load_dotenv()\n",
    "import warnings\n",
    "warnings.filterwarnings(\"ignore\")"
   ]
  },
  {
   "cell_type": "code",
   "execution_count": 2,
   "metadata": {},
   "outputs": [],
   "source": [
    "## temperature value --> how creative we want our model to be\n",
    "## 0 --> temperature it means model is very safe it is not taking any bets.\n",
    "## 1 --> temperature  it will take risk it might generate wrong output but it is very creative."
   ]
  },
  {
   "cell_type": "code",
   "execution_count": 3,
   "metadata": {},
   "outputs": [],
   "source": [
    "llm = OpenAI(openai_api_key=os.getenv(\"openai_key\"),temperature=0.7)"
   ]
  },
  {
   "cell_type": "code",
   "execution_count": 4,
   "metadata": {},
   "outputs": [
    {
     "name": "stdout",
     "output_type": "stream",
     "text": [
      "\n",
      "\n",
      "1. Goa\n",
      "2. Kerala\n",
      "3. Rajasthan\n",
      "4. Himachal Pradesh\n",
      "5. Uttarakhand\n"
     ]
    }
   ],
   "source": [
    "text = '''Which are the five best places in India and i want point wise answer i do not want\n",
    "detail description i just want names'''\n",
    "print(llm.predict(text))"
   ]
  },
  {
   "cell_type": "markdown",
   "metadata": {},
   "source": [
    "## Prompt Templates and LLMChain"
   ]
  },
  {
   "cell_type": "code",
   "execution_count": 5,
   "metadata": {},
   "outputs": [
    {
     "name": "stdout",
     "output_type": "stream",
     "text": [
      "Give me the names of 5 best movies of India with highest box office collection \n",
      "    and also give the total worldwide collection in INR\n"
     ]
    }
   ],
   "source": [
    "from langchain.prompts import PromptTemplate\n",
    "\n",
    "input_prompt = PromptTemplate(\n",
    "    input_variables=['country'],\n",
    "    template = '''Give me the names of 5 best movies of {country} with highest box office collection \n",
    "    and also give the total worldwide collection in INR'''\n",
    ")\n",
    "\n",
    "print(input_prompt.format(country='India'))"
   ]
  },
  {
   "cell_type": "code",
   "execution_count": 6,
   "metadata": {},
   "outputs": [
    {
     "name": "stdout",
     "output_type": "stream",
     "text": [
      "\n",
      "\n",
      "1. \"Parasite\" - Worldwide collection: INR 3,864 Crores\n",
      "2. \"Train to Busan\" - Worldwide collection: INR 267 Crores\n",
      "3. \"Along with the Gods: The Two Worlds\" - Worldwide collection: INR 1,080 Crores\n",
      "4. \"Extreme Job\" - Worldwide collection: INR 578 Crores\n",
      "5. \"Veteran\" - Worldwide collection: INR 348 Crores\n"
     ]
    }
   ],
   "source": [
    "# In order to execute a prompt template you need to use LLMChain\n",
    "from langchain.chains import LLMChain\n",
    "chain = LLMChain(llm=llm,prompt=input_prompt)\n",
    "print(chain.run(\"Korea\"))"
   ]
  },
  {
   "cell_type": "markdown",
   "metadata": {},
   "source": [
    "## Combining Multiple Chains using Sequential Chain"
   ]
  },
  {
   "cell_type": "code",
   "execution_count": 7,
   "metadata": {},
   "outputs": [],
   "source": [
    "# Simple Sequential Chain\n",
    "# from langchain.chains import SimpleSequentialChain\n",
    "\n",
    "# country_prompt = PromptTemplate(input_variables=['country'],\n",
    "#                                 template='''Give me the name of richest man of {country} ''')\n",
    "# country_chain = LLMChain(llm=llm,prompt=country_prompt,output_key='Person_Name')\n",
    "\n",
    "# networth_prompt = PromptTemplate(input_variables=['networth'],\n",
    "#                                  template='''And also tell me the networth of that person is {networth} ''')\n",
    "# networth_chain = LLMChain(llm=llm,prompt=networth_prompt,output_key='Net_Worth')"
   ]
  },
  {
   "cell_type": "code",
   "execution_count": 8,
   "metadata": {},
   "outputs": [],
   "source": [
    "# main_chain = SimpleSequentialChain(chains=[country_chain,networth_chain])\n",
    "# main_chain.run(\"US\")"
   ]
  },
  {
   "cell_type": "code",
   "execution_count": 9,
   "metadata": {},
   "outputs": [],
   "source": [
    "# Sequential Chain\n",
    "from langchain.chains import SequentialChain\n",
    "country_prompt = PromptTemplate(input_variables=['country'],\n",
    "                                template='''Tell me the richest man of {country} and i just want one name only ''')\n",
    "country_chain = LLMChain(llm=llm,prompt=country_prompt,output_key='name')\n",
    "\n",
    "networth_prompt = PromptTemplate(input_variables=['name'],\n",
    "                                 template='''net worth of the {name}''')\n",
    "networth_chain = LLMChain(llm=llm,prompt=networth_prompt,output_key='Net_Worth')\n",
    "\n",
    "\n",
    "my_chain = SequentialChain(chains=[country_chain,networth_chain],\n",
    "                        input_variables=['country'],\n",
    "                        output_variables=['name','Net_Worth'])\n"
   ]
  },
  {
   "cell_type": "code",
   "execution_count": 10,
   "metadata": {},
   "outputs": [
    {
     "data": {
      "text/plain": [
       "{'country': 'USA',\n",
       " 'name': '\\n\\nAs of 2021, the richest man in the USA is Elon Musk, with a net worth of approximately $209 billion.',\n",
       " 'Net_Worth': ''}"
      ]
     },
     "execution_count": 10,
     "metadata": {},
     "output_type": "execute_result"
    }
   ],
   "source": [
    "my_chain({'country':'USA'})"
   ]
  },
  {
   "cell_type": "markdown",
   "metadata": {},
   "source": [
    "## Chatmodels with ChatOpenAI"
   ]
  },
  {
   "cell_type": "code",
   "execution_count": 11,
   "metadata": {},
   "outputs": [],
   "source": [
    "from langchain.chat_models import ChatOpenAI\n",
    "from langchain.schema import HumanMessage,SystemMessage,AIMessage"
   ]
  },
  {
   "cell_type": "code",
   "execution_count": 12,
   "metadata": {},
   "outputs": [],
   "source": [
    "chat_llm = ChatOpenAI(openai_api_key=os.getenv(\"openai_key\"),temperature=0.7,model='gpt-3.5-turbo')"
   ]
  },
  {
   "cell_type": "code",
   "execution_count": 16,
   "metadata": {},
   "outputs": [
    {
     "data": {
      "text/plain": [
       "AIMessage(content=\"(Verse 1)\\nIn the realm of devotion, a hero was born,\\nWith strength and wisdom, his spirit adorned,\\nLord Hanuman, the mighty one,\\nWith a heart of gold, as bright as the sun.\\n\\n(Chorus)\\nOh Hanuman, embodiment of grace,\\nWith courage and love, you light up any space,\\nProtector and savior, to you we pray,\\nGuide us on this journey, each and every day.\\n\\n(Verse 2)\\nIn the kingdom of Lanka, darkness prevailed,\\nRavana's reign of terror, the world was impaled,\\nBut Hanuman, with his unwavering might,\\nCrossed the ocean, to bring hope and light.\\n\\n(Chorus)\\nOh Hanuman, embodiment of grace,\\nWith courage and love, you light up any space,\\nProtector and savior, to you we pray,\\nGuide us on this journey, each and every day.\\n\\n(Bridge)\\nWith devotion in his heart, he soared through the sky,\\nIn search of Sita, held captive, he would not deny,\\nWith a ring from Lord Rama, his mission was clear,\\nTo deliver a message, to banish all fear.\\n\\n(Verse 3)\\nHanuman, the messenger, with love in his eyes,\\nShared Rama's words, which made Sita realize,\\nThat help was on its way, her rescue was near,\\nHanuman's dedication wiped away every tear.\\n\\n(Chorus)\\nOh Hanuman, embodiment of grace,\\nWith courage and love, you light up any space,\\nProtector and savior, to you we pray,\\nGuide us on this journey, each and every day.\\n\\n(Outro)\\nSo let us sing, in praise of Hanuman's might,\\nA symbol of devotion, shining so bright,\\nIn times of darkness, he is our guiding star,\\nLord Hanuman, forever, we'll honor who you are.\")"
      ]
     },
     "execution_count": 16,
     "metadata": {},
     "output_type": "execute_result"
    }
   ],
   "source": [
    "chat_llm([\n",
    "    SystemMessage(content=\"You are a professional singer AI assistant\"),\n",
    "    HumanMessage(content=\"Please write a song on Lord Hanuman\")\n",
    "])"
   ]
  },
  {
   "cell_type": "markdown",
   "metadata": {},
   "source": [
    "## Prompt Template + LLM + Output Parsers"
   ]
  },
  {
   "cell_type": "code",
   "execution_count": 17,
   "metadata": {},
   "outputs": [],
   "source": [
    "from langchain.chat_models import ChatOpenAI\n",
    "from langchain.prompts.chat import ChatPromptTemplate\n",
    "from langchain.schema import BaseOutputParser"
   ]
  },
  {
   "cell_type": "code",
   "execution_count": 31,
   "metadata": {},
   "outputs": [],
   "source": [
    "class Commaseparatedoutput(BaseOutputParser):\n",
    "    def parse(self,text:str):\n",
    "        return text.strip().split('\\n')"
   ]
  },
  {
   "cell_type": "code",
   "execution_count": 32,
   "metadata": {},
   "outputs": [],
   "source": [
    "template = '''\n",
    "You are a Data Science helpful assistant. So when the user asks you something about data science,machine learning,\n",
    "deep learning, NLP and generative AI so on this topics you have to guide them properly   \n",
    "'''\n",
    "\n",
    "human_template = '{text}'\n",
    "\n",
    "chat_prompt = ChatPromptTemplate.from_messages([\n",
    "    ('system',template),\n",
    "    ('human',human_template)\n",
    "])"
   ]
  },
  {
   "cell_type": "code",
   "execution_count": 39,
   "metadata": {},
   "outputs": [],
   "source": [
    "final_chain = chat_prompt|chat_llm|Commaseparatedoutput()"
   ]
  },
  {
   "cell_type": "code",
   "execution_count": 40,
   "metadata": {},
   "outputs": [
    {
     "data": {
      "text/plain": [
       "[\"Sure! Here's a roadmap for machine learning:\",\n",
       " '',\n",
       " '1. Learn the basics of programming: Start by learning a programming language like Python or R, which are widely used in machine learning.',\n",
       " '',\n",
       " \"2. Understand the fundamentals of mathematics and statistics: Machine learning heavily relies on concepts such as linear algebra, calculus, probability, and statistics. So, it's important to have a strong foundation in these areas.\",\n",
       " '',\n",
       " '3. Learn about data preprocessing: Familiarize yourself with techniques for cleaning, transforming, and preparing data for analysis. This includes handling missing values, outlier detection, normalization, and feature scaling.',\n",
       " '',\n",
       " '4. Study supervised learning algorithms: Start with algorithms like linear regression, logistic regression, decision trees, and random forests. Understand how these algorithms work and when to use them.',\n",
       " '',\n",
       " '5. Dive into unsupervised learning algorithms: Learn about clustering algorithms like K-means, hierarchical clustering, and DBSCAN. Also, study dimensionality reduction techniques like principal component analysis (PCA) and t-distributed stochastic neighbor embedding (t-SNE).',\n",
       " '',\n",
       " '6. Explore deep learning: Once you have a good understanding of traditional machine learning, you can move on to deep learning. Study neural networks, activation functions, and different types of layers (e.g., convolutional, recurrent). Also, learn about popular deep learning frameworks like TensorFlow and PyTorch.',\n",
       " '',\n",
       " '7. Understand model evaluation and validation: Learn how to assess the performance of your models using metrics like accuracy, precision, recall, and F1-score. Additionally, learn about techniques like cross-validation and train-test splits.',\n",
       " '',\n",
       " '8. Gain experience with real-world datasets: Practice working with real-world datasets to gain practical experience. Kaggle is a great platform for finding datasets and participating in machine learning competitions.',\n",
       " '',\n",
       " '9. Stay updated with the latest research: Follow blogs, research papers, and conferences to stay updated with the latest advancements in machine learning. This will help you stay ahead and learn about cutting-edge techniques.',\n",
       " '',\n",
       " '10. Build your own projects: Finally, start building your own machine learning projects. This will help solidify your understanding and showcase your skills to potential employers.',\n",
       " '',\n",
       " \"Remember, machine learning is a vast field, and this roadmap is just a starting point. It's important to keep learning, experimenting, and staying curious.\"]"
      ]
     },
     "execution_count": 40,
     "metadata": {},
     "output_type": "execute_result"
    }
   ],
   "source": [
    "final_chain.invoke({'text':'Roadmap for machine learning'})"
   ]
  },
  {
   "cell_type": "code",
   "execution_count": null,
   "metadata": {},
   "outputs": [],
   "source": []
  }
 ],
 "metadata": {
  "kernelspec": {
   "display_name": "Python 3",
   "language": "python",
   "name": "python3"
  },
  "language_info": {
   "codemirror_mode": {
    "name": "ipython",
    "version": 3
   },
   "file_extension": ".py",
   "mimetype": "text/x-python",
   "name": "python",
   "nbconvert_exporter": "python",
   "pygments_lexer": "ipython3",
   "version": "0.0.0"
  }
 },
 "nbformat": 4,
 "nbformat_minor": 2
}
